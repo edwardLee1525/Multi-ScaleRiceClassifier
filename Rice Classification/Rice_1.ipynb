{
 "cells": [
  {
   "cell_type": "code",
   "execution_count": 2,
   "metadata": {},
   "outputs": [],
   "source": [
    "import os\n",
    "import pandas as pd\n",
    "from sklearn.model_selection import train_test_split\n",
    "from sklearn.preprocessing import LabelEncoder, label_binarize\n",
    "from keras.preprocessing.image import ImageDataGenerator\n",
    "from keras.layers import GlobalAveragePooling2D, Reshape, Dense, Multiply, Conv2D, Activation, Lambda, Add, Concatenate, BatchNormalization,\\\n",
    "      Input, MaxPooling2D, concatenate, Dropout\n",
    "from keras.models import Model\n",
    "from keras import backend as K\n",
    "import tensorflow as tf \n",
    "from keras.optimizers import Adam\n",
    "from keras.callbacks import ModelCheckpoint, EarlyStopping, TensorBoard\n",
    "import time\n",
    "import matplotlib.pyplot as plt\n",
    "from sklearn.metrics import roc_curve, auc, recall_score, confusion_matrix, classification_report, f1_score, precision_recall_curve, precision_score\n",
    "import numpy as np\n",
    "import seaborn as sns\n",
    "import keras\n",
    "import matplotlib.cm as cm\n",
    "from keras.utils import load_img,img_to_array,array_to_img\n",
    "from keras.applications.xception import Xception, preprocess_input, decode_predictions\n",
    "import cv2\n",
    "from keras.callbacks import LearningRateScheduler\n"
   ]
  },
  {
   "cell_type": "code",
   "execution_count": 3,
   "metadata": {},
   "outputs": [],
   "source": [
    "# Set the path to the dataset\n",
    "dataset_path = 'E:\\L6C6\\mv\\Rice_Image_Dataset'\n",
    "\n",
    "# Initialize empty lists for storing the images and labels\n",
    "images = []\n",
    "labels = []\n",
    "\n",
    "# Loop over the subfolders in the dataset\n",
    "for subfolder in os.listdir(dataset_path):\n",
    "\n",
    "    subfolder_path = os.path.join(dataset_path, subfolder)\n",
    "    if not os.path.isdir(subfolder_path):\n",
    "        continue\n",
    "\n",
    "  # Loop over the images in the subfolder\n",
    "    for image_filename in os.listdir(subfolder_path):\n",
    "       # Load the image and store it in the images list\n",
    "        image_path = os.path.join(subfolder_path, image_filename)\n",
    "        images.append(image_path)\n",
    "\n",
    "        # Store the label for the image in the labels list\n",
    "        labels.append(subfolder)\n",
    "\n",
    " # Create a pandas DataFrame from the images and labels\n",
    "df = pd.DataFrame({'image': images, 'label': labels})"
   ]
  },
  {
   "cell_type": "code",
   "execution_count": 4,
   "metadata": {},
   "outputs": [],
   "source": [
    "X_train, X_remaining, y_train, y_remaining = train_test_split(df['image'], df['label'], test_size=0.3, random_state=42)\n",
    "\n",
    "test_ratio = 0.5\n",
    "X_val, X_test, y_val, y_test = train_test_split(X_remaining, y_remaining, test_size=test_ratio, random_state=42)\n",
    "\n",
    "df_train = pd.DataFrame({'image': X_train, 'label': y_train})\n",
    "df_val = pd.DataFrame({'image': X_val, 'label': y_val})\n",
    "df_test = pd.DataFrame({'image': X_test, 'label': y_test})\n",
    "\n",
    "encoder = LabelEncoder()\n",
    "y_train = encoder.fit_transform(y_train)\n",
    "y_val = encoder.transform(y_val)\n",
    "y_test = encoder.transform(y_test)"
   ]
  },
  {
   "cell_type": "code",
   "execution_count": 5,
   "metadata": {},
   "outputs": [
    {
     "name": "stdout",
     "output_type": "stream",
     "text": [
      "Found 52500 validated image filenames belonging to 5 classes.\n",
      "Found 11250 validated image filenames belonging to 5 classes.\n",
      "Found 11250 validated image filenames belonging to 5 classes.\n"
     ]
    }
   ],
   "source": [
    "image_size = (50, 50)\n",
    "batch_size = 32\n",
    "\n",
    "datagen = ImageDataGenerator(\n",
    "    rescale=1.0/255,\n",
    "    rotation_range=45,\n",
    "    width_shift_range=0.2,\n",
    "    height_shift_range=0.2,\n",
    "    shear_range=0.2,\n",
    "    zoom_range=0.2,\n",
    "    horizontal_flip=True,\n",
    "    vertical_flip=True,\n",
    "    fill_mode='nearest'\n",
    ")\n",
    "\n",
    "train_generator = datagen.flow_from_dataframe(\n",
    "    df_train,\n",
    "    x_col='image',\n",
    "    y_col='label',\n",
    "    target_size=image_size,\n",
    "    batch_size=batch_size,\n",
    "    class_mode='categorical',\n",
    "    shuffle=False\n",
    ")\n",
    "\n",
    "val_generator = datagen.flow_from_dataframe(\n",
    "    df_val,\n",
    "    x_col='image',\n",
    "    y_col='label',\n",
    "    target_size=image_size,\n",
    "    batch_size=batch_size,\n",
    "    class_mode='categorical',\n",
    "    shuffle=False\n",
    ")\n",
    "\n",
    "test_generator = datagen.flow_from_dataframe(\n",
    "    df_test,\n",
    "    x_col='image',\n",
    "    y_col='label',\n",
    "    target_size=image_size,\n",
    "    batch_size=batch_size,\n",
    "    class_mode='categorical',\n",
    "    shuffle=False\n",
    ")"
   ]
  },
  {
   "cell_type": "code",
   "execution_count": 6,
   "metadata": {},
   "outputs": [],
   "source": [
    "def squeeze_excite_block(input_shape, ratio=16):\n",
    "    channel_axis = -1\n",
    "    se_shape = (1, 1, input_shape.shape[channel_axis])\n",
    "    squeezed = GlobalAveragePooling2D()(input_shape)\n",
    "    squeezed = Reshape(se_shape)(squeezed)\n",
    "\n",
    "    x = Dense(input_shape.shape[channel_axis] // ratio, activation='relu')(squeezed)\n",
    "    x = Dense(input_shape.shape[channel_axis], activation='sigmoid')(x)\n",
    "\n",
    "    output_shape = Multiply()([input_shape, x])\n",
    "    return output_shape"
   ]
  },
  {
   "cell_type": "code",
   "execution_count": 7,
   "metadata": {},
   "outputs": [],
   "source": [
    "def spatial_attention_block(input_shape):\n",
    "    avg_pool = Lambda(lambda x: K.mean(x, axis=-1, keepdims=True))(input_shape)\n",
    "    max_pool = Lambda(lambda x: K.max(x, axis=-1, keepdims=True))(input_shape)\n",
    "\n",
    "    concat = Concatenate(axis=-1)([avg_pool, max_pool])\n",
    "\n",
    "    attention = Conv2D(1, (7, 7), padding='same', activation='sigmoid')(concat)\n",
    "\n",
    "    output_shape = Multiply()([input_shape, attention])\n",
    "    return output_shape"
   ]
  },
  {
   "cell_type": "code",
   "execution_count": 8,
   "metadata": {},
   "outputs": [],
   "source": [
    "def res_block(input_shape, filters, strides=1, use_conv_shortcut=False):\n",
    "\n",
    "    # Main path\n",
    "    x = Conv2D(filters, (1, 1), strides=strides, padding='same')(input_shape)\n",
    "    x = BatchNormalization()(x)\n",
    "    x = Activation('relu')(x)\n",
    "\n",
    "    x = Conv2D(filters, (3, 3), padding='same')(x)\n",
    "    x = BatchNormalization()(x)\n",
    "    x = Activation('relu')(x)\n",
    "\n",
    "    x = Conv2D(filters * 4, (1, 1), padding='same')(x)\n",
    "    x = BatchNormalization()(x)\n",
    "\n",
    "    # Shortcut path\n",
    "    shortcut = input_shape\n",
    "    if use_conv_shortcut or strides != 1 or input_shape.shape[-1] != filters * 4:\n",
    "        shortcut = Conv2D(filters * 4, (1, 1), strides=strides, padding='same')(shortcut)\n",
    "        shortcut = BatchNormalization()(shortcut)\n",
    "\n",
    "    # Combining main path with shortcut\n",
    "    x = Add()([x, shortcut])\n",
    "    x = Activation('relu')(x)\n",
    "    x = Dropout(0.2)(x)\n",
    "    se_output = spatial_attention_block(x)\n",
    "\n",
    "    return se_output"
   ]
  },
  {
   "cell_type": "code",
   "execution_count": 9,
   "metadata": {},
   "outputs": [],
   "source": [
    "def build_resnet(input_shape, num_classes, num_blocks_list, dropout_rate=0.2):\n",
    "    inputs = Input(shape=input_shape)\n",
    "    \n",
    "    x = Conv2D(32, (7, 7), strides=2, padding='same')(inputs)\n",
    "    x = BatchNormalization()(x)\n",
    "    x = Activation('relu')(x)\n",
    "    x = MaxPooling2D((3, 3), strides=2, padding='same')(x)\n",
    "    \n",
    "    for i, num_blocks in enumerate(num_blocks_list):\n",
    "        for j in range(num_blocks):\n",
    "            strides = 2 if j == 0 and i != 0 else 1\n",
    "            x = res_block(x, 32 * (2**i), strides=strides, use_conv_shortcut=j == 0)\n",
    "        x = Dropout(dropout_rate)(x)\n",
    "        \n",
    "    x = GlobalAveragePooling2D()(x)\n",
    "    \n",
    "    x = Dropout(dropout_rate)(x)\n",
    "    outputs = Dense(num_classes, activation='softmax')(x)\n",
    "    \n",
    "    model = Model(inputs, outputs)\n",
    "    return model"
   ]
  },
  {
   "cell_type": "code",
   "execution_count": 10,
   "metadata": {},
   "outputs": [],
   "source": [
    "# def build_custom_vgg(input_shape, num_classes):\n",
    "#     inputs = Input(shape=input_shape)\n",
    "    \n",
    "#     x = Conv2D(32, (3, 3), activation='relu', padding='same')(inputs)\n",
    "#     x = Conv2D(32, (3, 3), activation='relu', padding='same')(x)\n",
    "#     x = MaxPooling2D((2, 2))(x)\n",
    "    \n",
    "#     x = Conv2D(64, (3, 3), activation='relu', padding='same')(x)\n",
    "#     x = Conv2D(64, (3, 3), activation='relu', padding='same')(x)\n",
    "#     x = MaxPooling2D((2, 2))(x)\n",
    "    \n",
    "#     x = Conv2D(128, (3, 3), activation='relu', padding='same')(x)\n",
    "#     x = Conv2D(128, (3, 3), activation='relu', padding='same')(x)\n",
    "#     x = Conv2D(128, (3, 3), activation='relu', padding='same')(x)\n",
    "#     x = MaxPooling2D((2, 2))(x)\n",
    "\n",
    "#     x = Conv2D(256, (3, 3), activation='relu', padding='same')(x)\n",
    "#     x = Conv2D(256, (3, 3), activation='relu', padding='same')(x)\n",
    "#     x = Conv2D(256, (3, 3), activation='relu', padding='same')(x)\n",
    "#     x = MaxPooling2D((2, 2))(x)\n",
    "\n",
    "#     x = Flatten()(x)\n",
    "#     x = Dense(512, activation='relu')(x)\n",
    "#     x = Dense(512, activation='relu')(x)\n",
    "#     outputs = Dense(num_classes, activation='softmax')(x)\n",
    "    \n",
    "#     model = Model(inputs, outputs)\n",
    "#     return model\n"
   ]
  },
  {
   "cell_type": "code",
   "execution_count": 11,
   "metadata": {},
   "outputs": [],
   "source": [
    "# Defind the inception module (Module A)\n",
    "\n",
    "def inception_block(input_shape, filter_1x1):\n",
    "    \n",
    "    # First branch\n",
    "    branch_1_conv_1x1 = Conv2D(128, (1,1), padding='same', activation='relu')(input_shape)\n",
    "\n",
    "    # Second branch\n",
    "    branch_2_conv_1x1 = Conv2D(64, (1,1), padding='same', activation='relu')(input_shape)\n",
    "    branch_2_conv_3x3 = Conv2D(192, (3,3), padding='same', activation='relu')(branch_2_conv_1x1)\n",
    "    branch_2_conv_1x1 = Conv2D(filter_1x1, (1,1), padding='same', activation='relu')(branch_2_conv_3x3)\n",
    "\n",
    "    # Third branch\n",
    "    branch_3_conv_1x1 = Conv2D(64, (1,1), padding='same', activation='relu')(input_shape)\n",
    "    branch_3_conv_5x5 = Conv2D(96, (5,5), padding='same', activation='relu')(branch_3_conv_1x1 )\n",
    "    branch_3_conv_1x1 = Conv2D(filter_1x1, (1,1), padding='same', activation='relu')(branch_3_conv_5x5)\n",
    "\n",
    "    branch_output = concatenate([branch_1_conv_1x1, branch_2_conv_1x1, branch_3_conv_1x1], axis=-1)\n",
    "    se_output = spatial_attention_block(branch_output)\n",
    "    se_output = Dropout(0.2)(se_output)\n",
    "    return se_output"
   ]
  },
  {
   "cell_type": "code",
   "execution_count": 12,
   "metadata": {},
   "outputs": [],
   "source": [
    "def build_inception(input_shape, num_classes):\n",
    "    \n",
    "    inputs = Input(shape=input_shape)\n",
    "    x = Conv2D(64, (3, 3), strides=(2, 2), padding='same', activation='relu')(inputs)\n",
    "    x = MaxPooling2D((3, 3), strides=(2, 2), padding='same')(x)\n",
    "    x = Conv2D(32, (3, 3), padding='same', activation='relu')(x)\n",
    "    x = MaxPooling2D((3, 3), strides=(2, 2), padding='same')(x)\n",
    "\n",
    "    x = inception_block(x, 64)\n",
    "    x = inception_block(x, 64)\n",
    "    x = inception_block(x, 64)\n",
    "\n",
    "    x = GlobalAveragePooling2D()(x)\n",
    "    x = Dense(64, activation='relu')(x)\n",
    "    x = Dropout(0.3)(x)\n",
    "    output = Dense(num_classes, activation='softmax')(x)\n",
    "\n",
    "    model = Model(inputs, output)\n",
    "    return model"
   ]
  },
  {
   "cell_type": "code",
   "execution_count": 13,
   "metadata": {},
   "outputs": [],
   "source": [
    "input_shape = (50, 50, 3)\n",
    "inputs = Input(shape=input_shape)\n",
    "num_classes = 5\n",
    "num_blocks_list = [2, 2]"
   ]
  },
  {
   "cell_type": "code",
   "execution_count": 14,
   "metadata": {},
   "outputs": [
    {
     "name": "stdout",
     "output_type": "stream",
     "text": [
      "Model: \"model\"\n",
      "__________________________________________________________________________________________________\n",
      " Layer (type)                   Output Shape         Param #     Connected to                     \n",
      "==================================================================================================\n",
      " input_2 (InputLayer)           [(None, 50, 50, 3)]  0           []                               \n",
      "                                                                                                  \n",
      " conv2d (Conv2D)                (None, 25, 25, 32)   4736        ['input_2[0][0]']                \n",
      "                                                                                                  \n",
      " batch_normalization (BatchNorm  (None, 25, 25, 32)  128         ['conv2d[0][0]']                 \n",
      " alization)                                                                                       \n",
      "                                                                                                  \n",
      " activation (Activation)        (None, 25, 25, 32)   0           ['batch_normalization[0][0]']    \n",
      "                                                                                                  \n",
      " max_pooling2d (MaxPooling2D)   (None, 13, 13, 32)   0           ['activation[0][0]']             \n",
      "                                                                                                  \n",
      " conv2d_1 (Conv2D)              (None, 13, 13, 32)   1056        ['max_pooling2d[0][0]']          \n",
      "                                                                                                  \n",
      " batch_normalization_1 (BatchNo  (None, 13, 13, 32)  128         ['conv2d_1[0][0]']               \n",
      " rmalization)                                                                                     \n",
      "                                                                                                  \n",
      " activation_1 (Activation)      (None, 13, 13, 32)   0           ['batch_normalization_1[0][0]']  \n",
      "                                                                                                  \n",
      " conv2d_2 (Conv2D)              (None, 13, 13, 32)   9248        ['activation_1[0][0]']           \n",
      "                                                                                                  \n",
      " batch_normalization_2 (BatchNo  (None, 13, 13, 32)  128         ['conv2d_2[0][0]']               \n",
      " rmalization)                                                                                     \n",
      "                                                                                                  \n",
      " activation_2 (Activation)      (None, 13, 13, 32)   0           ['batch_normalization_2[0][0]']  \n",
      "                                                                                                  \n",
      " conv2d_3 (Conv2D)              (None, 13, 13, 128)  4224        ['activation_2[0][0]']           \n",
      "                                                                                                  \n",
      " conv2d_4 (Conv2D)              (None, 13, 13, 128)  4224        ['max_pooling2d[0][0]']          \n",
      "                                                                                                  \n",
      " batch_normalization_3 (BatchNo  (None, 13, 13, 128)  512        ['conv2d_3[0][0]']               \n",
      " rmalization)                                                                                     \n",
      "                                                                                                  \n",
      " batch_normalization_4 (BatchNo  (None, 13, 13, 128)  512        ['conv2d_4[0][0]']               \n",
      " rmalization)                                                                                     \n",
      "                                                                                                  \n",
      " add (Add)                      (None, 13, 13, 128)  0           ['batch_normalization_3[0][0]',  \n",
      "                                                                  'batch_normalization_4[0][0]']  \n",
      "                                                                                                  \n",
      " activation_3 (Activation)      (None, 13, 13, 128)  0           ['add[0][0]']                    \n",
      "                                                                                                  \n",
      " dropout (Dropout)              (None, 13, 13, 128)  0           ['activation_3[0][0]']           \n",
      "                                                                                                  \n",
      " lambda (Lambda)                (None, 13, 13, 1)    0           ['dropout[0][0]']                \n",
      "                                                                                                  \n",
      " lambda_1 (Lambda)              (None, 13, 13, 1)    0           ['dropout[0][0]']                \n",
      "                                                                                                  \n",
      " concatenate (Concatenate)      (None, 13, 13, 2)    0           ['lambda[0][0]',                 \n",
      "                                                                  'lambda_1[0][0]']               \n",
      "                                                                                                  \n",
      " conv2d_5 (Conv2D)              (None, 13, 13, 1)    99          ['concatenate[0][0]']            \n",
      "                                                                                                  \n",
      " multiply (Multiply)            (None, 13, 13, 128)  0           ['dropout[0][0]',                \n",
      "                                                                  'conv2d_5[0][0]']               \n",
      "                                                                                                  \n",
      " conv2d_6 (Conv2D)              (None, 13, 13, 32)   4128        ['multiply[0][0]']               \n",
      "                                                                                                  \n",
      " batch_normalization_5 (BatchNo  (None, 13, 13, 32)  128         ['conv2d_6[0][0]']               \n",
      " rmalization)                                                                                     \n",
      "                                                                                                  \n",
      " activation_4 (Activation)      (None, 13, 13, 32)   0           ['batch_normalization_5[0][0]']  \n",
      "                                                                                                  \n",
      " conv2d_7 (Conv2D)              (None, 13, 13, 32)   9248        ['activation_4[0][0]']           \n",
      "                                                                                                  \n",
      " batch_normalization_6 (BatchNo  (None, 13, 13, 32)  128         ['conv2d_7[0][0]']               \n",
      " rmalization)                                                                                     \n",
      "                                                                                                  \n",
      " activation_5 (Activation)      (None, 13, 13, 32)   0           ['batch_normalization_6[0][0]']  \n",
      "                                                                                                  \n",
      " conv2d_8 (Conv2D)              (None, 13, 13, 128)  4224        ['activation_5[0][0]']           \n",
      "                                                                                                  \n",
      " batch_normalization_7 (BatchNo  (None, 13, 13, 128)  512        ['conv2d_8[0][0]']               \n",
      " rmalization)                                                                                     \n",
      "                                                                                                  \n",
      " add_1 (Add)                    (None, 13, 13, 128)  0           ['batch_normalization_7[0][0]',  \n",
      "                                                                  'multiply[0][0]']               \n",
      "                                                                                                  \n",
      " activation_6 (Activation)      (None, 13, 13, 128)  0           ['add_1[0][0]']                  \n",
      "                                                                                                  \n",
      " dropout_1 (Dropout)            (None, 13, 13, 128)  0           ['activation_6[0][0]']           \n",
      "                                                                                                  \n",
      " lambda_2 (Lambda)              (None, 13, 13, 1)    0           ['dropout_1[0][0]']              \n",
      "                                                                                                  \n",
      " lambda_3 (Lambda)              (None, 13, 13, 1)    0           ['dropout_1[0][0]']              \n",
      "                                                                                                  \n",
      " concatenate_1 (Concatenate)    (None, 13, 13, 2)    0           ['lambda_2[0][0]',               \n",
      "                                                                  'lambda_3[0][0]']               \n",
      "                                                                                                  \n",
      " conv2d_9 (Conv2D)              (None, 13, 13, 1)    99          ['concatenate_1[0][0]']          \n",
      "                                                                                                  \n",
      " multiply_1 (Multiply)          (None, 13, 13, 128)  0           ['dropout_1[0][0]',              \n",
      "                                                                  'conv2d_9[0][0]']               \n",
      "                                                                                                  \n",
      " dropout_2 (Dropout)            (None, 13, 13, 128)  0           ['multiply_1[0][0]']             \n",
      "                                                                                                  \n",
      " conv2d_10 (Conv2D)             (None, 7, 7, 64)     8256        ['dropout_2[0][0]']              \n",
      "                                                                                                  \n",
      " batch_normalization_8 (BatchNo  (None, 7, 7, 64)    256         ['conv2d_10[0][0]']              \n",
      " rmalization)                                                                                     \n",
      "                                                                                                  \n",
      " activation_7 (Activation)      (None, 7, 7, 64)     0           ['batch_normalization_8[0][0]']  \n",
      "                                                                                                  \n",
      " conv2d_11 (Conv2D)             (None, 7, 7, 64)     36928       ['activation_7[0][0]']           \n",
      "                                                                                                  \n",
      " batch_normalization_9 (BatchNo  (None, 7, 7, 64)    256         ['conv2d_11[0][0]']              \n",
      " rmalization)                                                                                     \n",
      "                                                                                                  \n",
      " activation_8 (Activation)      (None, 7, 7, 64)     0           ['batch_normalization_9[0][0]']  \n",
      "                                                                                                  \n",
      " conv2d_12 (Conv2D)             (None, 7, 7, 256)    16640       ['activation_8[0][0]']           \n",
      "                                                                                                  \n",
      " conv2d_13 (Conv2D)             (None, 7, 7, 256)    33024       ['dropout_2[0][0]']              \n",
      "                                                                                                  \n",
      " batch_normalization_10 (BatchN  (None, 7, 7, 256)   1024        ['conv2d_12[0][0]']              \n",
      " ormalization)                                                                                    \n",
      "                                                                                                  \n",
      " batch_normalization_11 (BatchN  (None, 7, 7, 256)   1024        ['conv2d_13[0][0]']              \n",
      " ormalization)                                                                                    \n",
      "                                                                                                  \n",
      " add_2 (Add)                    (None, 7, 7, 256)    0           ['batch_normalization_10[0][0]', \n",
      "                                                                  'batch_normalization_11[0][0]'] \n",
      "                                                                                                  \n",
      " activation_9 (Activation)      (None, 7, 7, 256)    0           ['add_2[0][0]']                  \n",
      "                                                                                                  \n",
      " dropout_3 (Dropout)            (None, 7, 7, 256)    0           ['activation_9[0][0]']           \n",
      "                                                                                                  \n",
      " lambda_4 (Lambda)              (None, 7, 7, 1)      0           ['dropout_3[0][0]']              \n",
      "                                                                                                  \n",
      " lambda_5 (Lambda)              (None, 7, 7, 1)      0           ['dropout_3[0][0]']              \n",
      "                                                                                                  \n",
      " concatenate_2 (Concatenate)    (None, 7, 7, 2)      0           ['lambda_4[0][0]',               \n",
      "                                                                  'lambda_5[0][0]']               \n",
      "                                                                                                  \n",
      " conv2d_14 (Conv2D)             (None, 7, 7, 1)      99          ['concatenate_2[0][0]']          \n",
      "                                                                                                  \n",
      " multiply_2 (Multiply)          (None, 7, 7, 256)    0           ['dropout_3[0][0]',              \n",
      "                                                                  'conv2d_14[0][0]']              \n",
      "                                                                                                  \n",
      " conv2d_15 (Conv2D)             (None, 7, 7, 64)     16448       ['multiply_2[0][0]']             \n",
      "                                                                                                  \n",
      " batch_normalization_12 (BatchN  (None, 7, 7, 64)    256         ['conv2d_15[0][0]']              \n",
      " ormalization)                                                                                    \n",
      "                                                                                                  \n",
      " activation_10 (Activation)     (None, 7, 7, 64)     0           ['batch_normalization_12[0][0]'] \n",
      "                                                                                                  \n",
      " conv2d_16 (Conv2D)             (None, 7, 7, 64)     36928       ['activation_10[0][0]']          \n",
      "                                                                                                  \n",
      " batch_normalization_13 (BatchN  (None, 7, 7, 64)    256         ['conv2d_16[0][0]']              \n",
      " ormalization)                                                                                    \n",
      "                                                                                                  \n",
      " activation_11 (Activation)     (None, 7, 7, 64)     0           ['batch_normalization_13[0][0]'] \n",
      "                                                                                                  \n",
      " conv2d_17 (Conv2D)             (None, 7, 7, 256)    16640       ['activation_11[0][0]']          \n",
      "                                                                                                  \n",
      " batch_normalization_14 (BatchN  (None, 7, 7, 256)   1024        ['conv2d_17[0][0]']              \n",
      " ormalization)                                                                                    \n",
      "                                                                                                  \n",
      " add_3 (Add)                    (None, 7, 7, 256)    0           ['batch_normalization_14[0][0]', \n",
      "                                                                  'multiply_2[0][0]']             \n",
      "                                                                                                  \n",
      " activation_12 (Activation)     (None, 7, 7, 256)    0           ['add_3[0][0]']                  \n",
      "                                                                                                  \n",
      " dropout_4 (Dropout)            (None, 7, 7, 256)    0           ['activation_12[0][0]']          \n",
      "                                                                                                  \n",
      " lambda_6 (Lambda)              (None, 7, 7, 1)      0           ['dropout_4[0][0]']              \n",
      "                                                                                                  \n",
      " lambda_7 (Lambda)              (None, 7, 7, 1)      0           ['dropout_4[0][0]']              \n",
      "                                                                                                  \n",
      " concatenate_3 (Concatenate)    (None, 7, 7, 2)      0           ['lambda_6[0][0]',               \n",
      "                                                                  'lambda_7[0][0]']               \n",
      "                                                                                                  \n",
      " conv2d_18 (Conv2D)             (None, 7, 7, 1)      99          ['concatenate_3[0][0]']          \n",
      "                                                                                                  \n",
      " multiply_3 (Multiply)          (None, 7, 7, 256)    0           ['dropout_4[0][0]',              \n",
      "                                                                  'conv2d_18[0][0]']              \n",
      "                                                                                                  \n",
      " dropout_5 (Dropout)            (None, 7, 7, 256)    0           ['multiply_3[0][0]']             \n",
      "                                                                                                  \n",
      " global_average_pooling2d (Glob  (None, 256)         0           ['dropout_5[0][0]']              \n",
      " alAveragePooling2D)                                                                              \n",
      "                                                                                                  \n",
      " dropout_6 (Dropout)            (None, 256)          0           ['global_average_pooling2d[0][0]'\n",
      "                                                                 ]                                \n",
      "                                                                                                  \n",
      " dense (Dense)                  (None, 5)            1285        ['dropout_6[0][0]']              \n",
      "                                                                                                  \n",
      "==================================================================================================\n",
      "Total params: 213,905\n",
      "Trainable params: 210,769\n",
      "Non-trainable params: 3,136\n",
      "__________________________________________________________________________________________________\n"
     ]
    }
   ],
   "source": [
    "model_1 = build_resnet(input_shape, num_classes, num_blocks_list)\n",
    "model_1.summary()"
   ]
  },
  {
   "cell_type": "code",
   "execution_count": 15,
   "metadata": {},
   "outputs": [
    {
     "name": "stdout",
     "output_type": "stream",
     "text": [
      "Model: \"model_1\"\n",
      "__________________________________________________________________________________________________\n",
      " Layer (type)                   Output Shape         Param #     Connected to                     \n",
      "==================================================================================================\n",
      " input_3 (InputLayer)           [(None, 50, 50, 3)]  0           []                               \n",
      "                                                                                                  \n",
      " conv2d_19 (Conv2D)             (None, 25, 25, 64)   1792        ['input_3[0][0]']                \n",
      "                                                                                                  \n",
      " max_pooling2d_1 (MaxPooling2D)  (None, 13, 13, 64)  0           ['conv2d_19[0][0]']              \n",
      "                                                                                                  \n",
      " conv2d_20 (Conv2D)             (None, 13, 13, 32)   18464       ['max_pooling2d_1[0][0]']        \n",
      "                                                                                                  \n",
      " max_pooling2d_2 (MaxPooling2D)  (None, 7, 7, 32)    0           ['conv2d_20[0][0]']              \n",
      "                                                                                                  \n",
      " conv2d_22 (Conv2D)             (None, 7, 7, 64)     2112        ['max_pooling2d_2[0][0]']        \n",
      "                                                                                                  \n",
      " conv2d_25 (Conv2D)             (None, 7, 7, 64)     2112        ['max_pooling2d_2[0][0]']        \n",
      "                                                                                                  \n",
      " conv2d_23 (Conv2D)             (None, 7, 7, 192)    110784      ['conv2d_22[0][0]']              \n",
      "                                                                                                  \n",
      " conv2d_26 (Conv2D)             (None, 7, 7, 96)     153696      ['conv2d_25[0][0]']              \n",
      "                                                                                                  \n",
      " conv2d_21 (Conv2D)             (None, 7, 7, 128)    4224        ['max_pooling2d_2[0][0]']        \n",
      "                                                                                                  \n",
      " conv2d_24 (Conv2D)             (None, 7, 7, 64)     12352       ['conv2d_23[0][0]']              \n",
      "                                                                                                  \n",
      " conv2d_27 (Conv2D)             (None, 7, 7, 64)     6208        ['conv2d_26[0][0]']              \n",
      "                                                                                                  \n",
      " concatenate_4 (Concatenate)    (None, 7, 7, 256)    0           ['conv2d_21[0][0]',              \n",
      "                                                                  'conv2d_24[0][0]',              \n",
      "                                                                  'conv2d_27[0][0]']              \n",
      "                                                                                                  \n",
      " lambda_8 (Lambda)              (None, 7, 7, 1)      0           ['concatenate_4[0][0]']          \n",
      "                                                                                                  \n",
      " lambda_9 (Lambda)              (None, 7, 7, 1)      0           ['concatenate_4[0][0]']          \n",
      "                                                                                                  \n",
      " concatenate_5 (Concatenate)    (None, 7, 7, 2)      0           ['lambda_8[0][0]',               \n",
      "                                                                  'lambda_9[0][0]']               \n",
      "                                                                                                  \n",
      " conv2d_28 (Conv2D)             (None, 7, 7, 1)      99          ['concatenate_5[0][0]']          \n",
      "                                                                                                  \n",
      " multiply_4 (Multiply)          (None, 7, 7, 256)    0           ['concatenate_4[0][0]',          \n",
      "                                                                  'conv2d_28[0][0]']              \n",
      "                                                                                                  \n",
      " dropout_7 (Dropout)            (None, 7, 7, 256)    0           ['multiply_4[0][0]']             \n",
      "                                                                                                  \n",
      " conv2d_30 (Conv2D)             (None, 7, 7, 64)     16448       ['dropout_7[0][0]']              \n",
      "                                                                                                  \n",
      " conv2d_33 (Conv2D)             (None, 7, 7, 64)     16448       ['dropout_7[0][0]']              \n",
      "                                                                                                  \n",
      " conv2d_31 (Conv2D)             (None, 7, 7, 192)    110784      ['conv2d_30[0][0]']              \n",
      "                                                                                                  \n",
      " conv2d_34 (Conv2D)             (None, 7, 7, 96)     153696      ['conv2d_33[0][0]']              \n",
      "                                                                                                  \n",
      " conv2d_29 (Conv2D)             (None, 7, 7, 128)    32896       ['dropout_7[0][0]']              \n",
      "                                                                                                  \n",
      " conv2d_32 (Conv2D)             (None, 7, 7, 64)     12352       ['conv2d_31[0][0]']              \n",
      "                                                                                                  \n",
      " conv2d_35 (Conv2D)             (None, 7, 7, 64)     6208        ['conv2d_34[0][0]']              \n",
      "                                                                                                  \n",
      " concatenate_6 (Concatenate)    (None, 7, 7, 256)    0           ['conv2d_29[0][0]',              \n",
      "                                                                  'conv2d_32[0][0]',              \n",
      "                                                                  'conv2d_35[0][0]']              \n",
      "                                                                                                  \n",
      " lambda_10 (Lambda)             (None, 7, 7, 1)      0           ['concatenate_6[0][0]']          \n",
      "                                                                                                  \n",
      " lambda_11 (Lambda)             (None, 7, 7, 1)      0           ['concatenate_6[0][0]']          \n",
      "                                                                                                  \n",
      " concatenate_7 (Concatenate)    (None, 7, 7, 2)      0           ['lambda_10[0][0]',              \n",
      "                                                                  'lambda_11[0][0]']              \n",
      "                                                                                                  \n",
      " conv2d_36 (Conv2D)             (None, 7, 7, 1)      99          ['concatenate_7[0][0]']          \n",
      "                                                                                                  \n",
      " multiply_5 (Multiply)          (None, 7, 7, 256)    0           ['concatenate_6[0][0]',          \n",
      "                                                                  'conv2d_36[0][0]']              \n",
      "                                                                                                  \n",
      " dropout_8 (Dropout)            (None, 7, 7, 256)    0           ['multiply_5[0][0]']             \n",
      "                                                                                                  \n",
      " conv2d_38 (Conv2D)             (None, 7, 7, 64)     16448       ['dropout_8[0][0]']              \n",
      "                                                                                                  \n",
      " conv2d_41 (Conv2D)             (None, 7, 7, 64)     16448       ['dropout_8[0][0]']              \n",
      "                                                                                                  \n",
      " conv2d_39 (Conv2D)             (None, 7, 7, 192)    110784      ['conv2d_38[0][0]']              \n",
      "                                                                                                  \n",
      " conv2d_42 (Conv2D)             (None, 7, 7, 96)     153696      ['conv2d_41[0][0]']              \n",
      "                                                                                                  \n",
      " conv2d_37 (Conv2D)             (None, 7, 7, 128)    32896       ['dropout_8[0][0]']              \n",
      "                                                                                                  \n",
      " conv2d_40 (Conv2D)             (None, 7, 7, 64)     12352       ['conv2d_39[0][0]']              \n",
      "                                                                                                  \n",
      " conv2d_43 (Conv2D)             (None, 7, 7, 64)     6208        ['conv2d_42[0][0]']              \n",
      "                                                                                                  \n",
      " concatenate_8 (Concatenate)    (None, 7, 7, 256)    0           ['conv2d_37[0][0]',              \n",
      "                                                                  'conv2d_40[0][0]',              \n",
      "                                                                  'conv2d_43[0][0]']              \n",
      "                                                                                                  \n",
      " lambda_12 (Lambda)             (None, 7, 7, 1)      0           ['concatenate_8[0][0]']          \n",
      "                                                                                                  \n",
      " lambda_13 (Lambda)             (None, 7, 7, 1)      0           ['concatenate_8[0][0]']          \n",
      "                                                                                                  \n",
      " concatenate_9 (Concatenate)    (None, 7, 7, 2)      0           ['lambda_12[0][0]',              \n",
      "                                                                  'lambda_13[0][0]']              \n",
      "                                                                                                  \n",
      " conv2d_44 (Conv2D)             (None, 7, 7, 1)      99          ['concatenate_9[0][0]']          \n",
      "                                                                                                  \n",
      " multiply_6 (Multiply)          (None, 7, 7, 256)    0           ['concatenate_8[0][0]',          \n",
      "                                                                  'conv2d_44[0][0]']              \n",
      "                                                                                                  \n",
      " dropout_9 (Dropout)            (None, 7, 7, 256)    0           ['multiply_6[0][0]']             \n",
      "                                                                                                  \n",
      " global_average_pooling2d_1 (Gl  (None, 256)         0           ['dropout_9[0][0]']              \n",
      " obalAveragePooling2D)                                                                            \n",
      "                                                                                                  \n",
      " dense_1 (Dense)                (None, 64)           16448       ['global_average_pooling2d_1[0][0\n",
      "                                                                 ]']                              \n",
      "                                                                                                  \n",
      " dropout_10 (Dropout)           (None, 64)           0           ['dense_1[0][0]']                \n",
      "                                                                                                  \n",
      " dense_2 (Dense)                (None, 5)            325         ['dropout_10[0][0]']             \n",
      "                                                                                                  \n",
      "==================================================================================================\n",
      "Total params: 1,026,478\n",
      "Trainable params: 1,026,478\n",
      "Non-trainable params: 0\n",
      "__________________________________________________________________________________________________\n"
     ]
    }
   ],
   "source": [
    "model_2 = build_inception(input_shape, num_classes)\n",
    "model_2.summary()"
   ]
  },
  {
   "cell_type": "code",
   "execution_count": 16,
   "metadata": {},
   "outputs": [],
   "source": [
    "resnet_output = model_1(inputs)\n",
    "inception_output = model_2(inputs)\n",
    "concatenated_output = concatenate([resnet_output, inception_output])\n",
    "concatenated_output = Dense(256, activation='relu')(concatenated_output)\n",
    "concatenated_output = Dropout(rate=0.2)(concatenated_output)\n",
    "outputs = Dense(num_classes, activation='softmax')(concatenated_output)"
   ]
  },
  {
   "cell_type": "code",
   "execution_count": 17,
   "metadata": {},
   "outputs": [
    {
     "name": "stdout",
     "output_type": "stream",
     "text": [
      "Model: \"model_2\"\n",
      "__________________________________________________________________________________________________\n",
      " Layer (type)                   Output Shape         Param #     Connected to                     \n",
      "==================================================================================================\n",
      " input_1 (InputLayer)           [(None, 50, 50, 3)]  0           []                               \n",
      "                                                                                                  \n",
      " model (Functional)             (None, 5)            213905      ['input_1[0][0]']                \n",
      "                                                                                                  \n",
      " model_1 (Functional)           (None, 5)            1026478     ['input_1[0][0]']                \n",
      "                                                                                                  \n",
      " concatenate_10 (Concatenate)   (None, 10)           0           ['model[0][0]',                  \n",
      "                                                                  'model_1[0][0]']                \n",
      "                                                                                                  \n",
      " dense_3 (Dense)                (None, 256)          2816        ['concatenate_10[0][0]']         \n",
      "                                                                                                  \n",
      " dropout_11 (Dropout)           (None, 256)          0           ['dense_3[0][0]']                \n",
      "                                                                                                  \n",
      " dense_4 (Dense)                (None, 5)            1285        ['dropout_11[0][0]']             \n",
      "                                                                                                  \n",
      "==================================================================================================\n",
      "Total params: 1,244,484\n",
      "Trainable params: 1,241,348\n",
      "Non-trainable params: 3,136\n",
      "__________________________________________________________________________________________________\n"
     ]
    }
   ],
   "source": [
    "ensemble_model = Model(inputs, outputs)\n",
    "ensemble_model.summary()"
   ]
  },
  {
   "cell_type": "code",
   "execution_count": 18,
   "metadata": {},
   "outputs": [],
   "source": [
    "def custom_loss(y_true, y_pred):\n",
    "    y_pred = tf.clip_by_value(y_pred, K.epsilon(), 1 - K.epsilon())\n",
    "    log_y_pred = tf.math.log(y_pred)\n",
    "    elements = -tf.math.multiply_no_nan(x=log_y_pred, y=y_true)\n",
    "    return tf.reduce_mean(tf.reduce_sum(elements, axis=1))"
   ]
  },
  {
   "cell_type": "code",
   "execution_count": 19,
   "metadata": {},
   "outputs": [],
   "source": [
    "def custom_accuracy(y_true, y_pred):\n",
    "    pred_labels = K.argmax(y_pred, axis=-1)\n",
    "    true_labels = K.argmax(y_true, axis=-1)\n",
    "    \n",
    "    correct_predictions = K.equal(true_labels, pred_labels)\n",
    "    \n",
    "    return K.mean(K.cast(correct_predictions, 'float32'))"
   ]
  },
  {
   "cell_type": "code",
   "execution_count": 20,
   "metadata": {},
   "outputs": [
    {
     "name": "stdout",
     "output_type": "stream",
     "text": [
      "Test loss: 1.0\n"
     ]
    }
   ],
   "source": [
    "y_true_example = tf.constant([[0, 1, 0], [1, 0, 0]])\n",
    "y_pred_example = tf.constant([[0.1, 0.6, 0.3], [0.8, 0.1, 0.1]])\n",
    "loss = custom_accuracy(y_true_example, y_pred_example)\n",
    "print(\"Test loss:\", loss.numpy())"
   ]
  },
  {
   "cell_type": "code",
   "execution_count": 21,
   "metadata": {},
   "outputs": [
    {
     "name": "stdout",
     "output_type": "stream",
     "text": [
      "Batch shape: (32, 50, 50, 3) (32, 5)\n"
     ]
    }
   ],
   "source": [
    "for x_batch, y_batch in train_generator:\n",
    "    print(\"Batch shape:\", x_batch.shape, y_batch.shape)\n",
    "    break"
   ]
  },
  {
   "cell_type": "code",
   "execution_count": 22,
   "metadata": {},
   "outputs": [],
   "source": [
    "def scheduler(epoch, lr):\n",
    "    decay_rate = 0.1\n",
    "    decay_step = 5\n",
    "    if epoch % decay_step == 0 and epoch:\n",
    "        return lr * decay_rate\n",
    "    return lr"
   ]
  },
  {
   "cell_type": "code",
   "execution_count": 23,
   "metadata": {},
   "outputs": [],
   "source": [
    "ensemble_model.compile(optimizer=Adam(learning_rate=0.001), loss=custom_loss, metrics=[custom_accuracy])\n",
    "x_batch, y_batch = next(train_generator)"
   ]
  },
  {
   "cell_type": "code",
   "execution_count": 24,
   "metadata": {},
   "outputs": [
    {
     "name": "stdout",
     "output_type": "stream",
     "text": [
      "Input shape: (32, 50, 50, 3)\n",
      "Output shape: (32, 5)\n",
      "Model input shape: (None, 50, 50, 3)\n",
      "Model output shape: (None, 5)\n"
     ]
    }
   ],
   "source": [
    "print(\"Input shape:\", x_batch.shape)\n",
    "print(\"Output shape:\", y_batch.shape)\n",
    "\n",
    "print(\"Model input shape:\", ensemble_model.input_shape)\n",
    "print(\"Model output shape:\", ensemble_model.output_shape)"
   ]
  },
  {
   "cell_type": "code",
   "execution_count": 25,
   "metadata": {},
   "outputs": [],
   "source": [
    "callbacks = [\n",
    "    ModelCheckpoint('best_model.h5', save_best_only=True, monitor='val_loss'),\n",
    "    EarlyStopping(patience=10, monitor='val_loss'),\n",
    "    TensorBoard(log_dir='./logs'),\n",
    "    LearningRateScheduler(scheduler),\n",
    "]"
   ]
  },
  {
   "cell_type": "code",
   "execution_count": 26,
   "metadata": {},
   "outputs": [
    {
     "name": "stdout",
     "output_type": "stream",
     "text": [
      "Epoch 1/40\n",
      " 777/1641 [=============>................] - ETA: 2:25 - loss: 0.8000 - custom_accuracy: 0.6484"
     ]
    },
    {
     "ename": "KeyboardInterrupt",
     "evalue": "",
     "output_type": "error",
     "traceback": [
      "\u001b[1;31m---------------------------------------------------------------------------\u001b[0m",
      "\u001b[1;31mKeyboardInterrupt\u001b[0m                         Traceback (most recent call last)",
      "Cell \u001b[1;32mIn[26], line 3\u001b[0m\n\u001b[0;32m      1\u001b[0m start_time \u001b[38;5;241m=\u001b[39m time\u001b[38;5;241m.\u001b[39mtime()\n\u001b[1;32m----> 3\u001b[0m history \u001b[38;5;241m=\u001b[39m \u001b[43mensemble_model\u001b[49m\u001b[38;5;241;43m.\u001b[39;49m\u001b[43mfit\u001b[49m\u001b[43m(\u001b[49m\n\u001b[0;32m      4\u001b[0m \u001b[43m    \u001b[49m\u001b[43mtrain_generator\u001b[49m\u001b[43m,\u001b[49m\n\u001b[0;32m      5\u001b[0m \u001b[43m    \u001b[49m\u001b[43msteps_per_epoch\u001b[49m\u001b[38;5;241;43m=\u001b[39;49m\u001b[38;5;28;43mlen\u001b[39;49m\u001b[43m(\u001b[49m\u001b[43mtrain_generator\u001b[49m\u001b[43m)\u001b[49m\u001b[43m,\u001b[49m\n\u001b[0;32m      6\u001b[0m \u001b[43m    \u001b[49m\u001b[43mvalidation_data\u001b[49m\u001b[38;5;241;43m=\u001b[39;49m\u001b[43mval_generator\u001b[49m\u001b[43m,\u001b[49m\n\u001b[0;32m      7\u001b[0m \u001b[43m    \u001b[49m\u001b[43mvalidation_steps\u001b[49m\u001b[38;5;241;43m=\u001b[39;49m\u001b[38;5;28;43mlen\u001b[39;49m\u001b[43m(\u001b[49m\u001b[43mval_generator\u001b[49m\u001b[43m)\u001b[49m\u001b[43m,\u001b[49m\n\u001b[0;32m      8\u001b[0m \u001b[43m    \u001b[49m\u001b[43mepochs\u001b[49m\u001b[38;5;241;43m=\u001b[39;49m\u001b[38;5;241;43m40\u001b[39;49m\u001b[43m,\u001b[49m\n\u001b[0;32m      9\u001b[0m \u001b[43m    \u001b[49m\u001b[43mcallbacks\u001b[49m\u001b[38;5;241;43m=\u001b[39;49m\u001b[43mcallbacks\u001b[49m\n\u001b[0;32m     10\u001b[0m \u001b[43m)\u001b[49m\n\u001b[0;32m     12\u001b[0m end_time \u001b[38;5;241m=\u001b[39m time\u001b[38;5;241m.\u001b[39mtime()\n\u001b[0;32m     13\u001b[0m training_time \u001b[38;5;241m=\u001b[39m end_time \u001b[38;5;241m-\u001b[39m start_time\n",
      "File \u001b[1;32mc:\\Users\\Edward\\anaconda3\\envs\\tf\\lib\\site-packages\\keras\\utils\\traceback_utils.py:64\u001b[0m, in \u001b[0;36mfilter_traceback.<locals>.error_handler\u001b[1;34m(*args, **kwargs)\u001b[0m\n\u001b[0;32m     62\u001b[0m filtered_tb \u001b[38;5;241m=\u001b[39m \u001b[38;5;28;01mNone\u001b[39;00m\n\u001b[0;32m     63\u001b[0m \u001b[38;5;28;01mtry\u001b[39;00m:\n\u001b[1;32m---> 64\u001b[0m   \u001b[38;5;28;01mreturn\u001b[39;00m fn(\u001b[38;5;241m*\u001b[39margs, \u001b[38;5;241m*\u001b[39m\u001b[38;5;241m*\u001b[39mkwargs)\n\u001b[0;32m     65\u001b[0m \u001b[38;5;28;01mexcept\u001b[39;00m \u001b[38;5;167;01mException\u001b[39;00m \u001b[38;5;28;01mas\u001b[39;00m e:  \u001b[38;5;66;03m# pylint: disable=broad-except\u001b[39;00m\n\u001b[0;32m     66\u001b[0m   filtered_tb \u001b[38;5;241m=\u001b[39m _process_traceback_frames(e\u001b[38;5;241m.\u001b[39m__traceback__)\n",
      "File \u001b[1;32mc:\\Users\\Edward\\anaconda3\\envs\\tf\\lib\\site-packages\\keras\\engine\\training.py:1414\u001b[0m, in \u001b[0;36mModel.fit\u001b[1;34m(self, x, y, batch_size, epochs, verbose, callbacks, validation_split, validation_data, shuffle, class_weight, sample_weight, initial_epoch, steps_per_epoch, validation_steps, validation_batch_size, validation_freq, max_queue_size, workers, use_multiprocessing)\u001b[0m\n\u001b[0;32m   1412\u001b[0m logs \u001b[38;5;241m=\u001b[39m tmp_logs  \u001b[38;5;66;03m# No error, now safe to assign to logs.\u001b[39;00m\n\u001b[0;32m   1413\u001b[0m end_step \u001b[38;5;241m=\u001b[39m step \u001b[38;5;241m+\u001b[39m data_handler\u001b[38;5;241m.\u001b[39mstep_increment\n\u001b[1;32m-> 1414\u001b[0m \u001b[43mcallbacks\u001b[49m\u001b[38;5;241;43m.\u001b[39;49m\u001b[43mon_train_batch_end\u001b[49m\u001b[43m(\u001b[49m\u001b[43mend_step\u001b[49m\u001b[43m,\u001b[49m\u001b[43m \u001b[49m\u001b[43mlogs\u001b[49m\u001b[43m)\u001b[49m\n\u001b[0;32m   1415\u001b[0m \u001b[38;5;28;01mif\u001b[39;00m \u001b[38;5;28mself\u001b[39m\u001b[38;5;241m.\u001b[39mstop_training:\n\u001b[0;32m   1416\u001b[0m   \u001b[38;5;28;01mbreak\u001b[39;00m\n",
      "File \u001b[1;32mc:\\Users\\Edward\\anaconda3\\envs\\tf\\lib\\site-packages\\keras\\callbacks.py:438\u001b[0m, in \u001b[0;36mCallbackList.on_train_batch_end\u001b[1;34m(self, batch, logs)\u001b[0m\n\u001b[0;32m    431\u001b[0m \u001b[38;5;250m\u001b[39m\u001b[38;5;124;03m\"\"\"Calls the `on_train_batch_end` methods of its callbacks.\u001b[39;00m\n\u001b[0;32m    432\u001b[0m \n\u001b[0;32m    433\u001b[0m \u001b[38;5;124;03mArgs:\u001b[39;00m\n\u001b[0;32m    434\u001b[0m \u001b[38;5;124;03m    batch: Integer, index of batch within the current epoch.\u001b[39;00m\n\u001b[0;32m    435\u001b[0m \u001b[38;5;124;03m    logs: Dict. Aggregated metric results up until this batch.\u001b[39;00m\n\u001b[0;32m    436\u001b[0m \u001b[38;5;124;03m\"\"\"\u001b[39;00m\n\u001b[0;32m    437\u001b[0m \u001b[38;5;28;01mif\u001b[39;00m \u001b[38;5;28mself\u001b[39m\u001b[38;5;241m.\u001b[39m_should_call_train_batch_hooks:\n\u001b[1;32m--> 438\u001b[0m   \u001b[38;5;28;43mself\u001b[39;49m\u001b[38;5;241;43m.\u001b[39;49m\u001b[43m_call_batch_hook\u001b[49m\u001b[43m(\u001b[49m\u001b[43mModeKeys\u001b[49m\u001b[38;5;241;43m.\u001b[39;49m\u001b[43mTRAIN\u001b[49m\u001b[43m,\u001b[49m\u001b[43m \u001b[49m\u001b[38;5;124;43m'\u001b[39;49m\u001b[38;5;124;43mend\u001b[39;49m\u001b[38;5;124;43m'\u001b[39;49m\u001b[43m,\u001b[49m\u001b[43m \u001b[49m\u001b[43mbatch\u001b[49m\u001b[43m,\u001b[49m\u001b[43m \u001b[49m\u001b[43mlogs\u001b[49m\u001b[38;5;241;43m=\u001b[39;49m\u001b[43mlogs\u001b[49m\u001b[43m)\u001b[49m\n",
      "File \u001b[1;32mc:\\Users\\Edward\\anaconda3\\envs\\tf\\lib\\site-packages\\keras\\callbacks.py:297\u001b[0m, in \u001b[0;36mCallbackList._call_batch_hook\u001b[1;34m(self, mode, hook, batch, logs)\u001b[0m\n\u001b[0;32m    295\u001b[0m   \u001b[38;5;28mself\u001b[39m\u001b[38;5;241m.\u001b[39m_call_batch_begin_hook(mode, batch, logs)\n\u001b[0;32m    296\u001b[0m \u001b[38;5;28;01melif\u001b[39;00m hook \u001b[38;5;241m==\u001b[39m \u001b[38;5;124m'\u001b[39m\u001b[38;5;124mend\u001b[39m\u001b[38;5;124m'\u001b[39m:\n\u001b[1;32m--> 297\u001b[0m   \u001b[38;5;28;43mself\u001b[39;49m\u001b[38;5;241;43m.\u001b[39;49m\u001b[43m_call_batch_end_hook\u001b[49m\u001b[43m(\u001b[49m\u001b[43mmode\u001b[49m\u001b[43m,\u001b[49m\u001b[43m \u001b[49m\u001b[43mbatch\u001b[49m\u001b[43m,\u001b[49m\u001b[43m \u001b[49m\u001b[43mlogs\u001b[49m\u001b[43m)\u001b[49m\n\u001b[0;32m    298\u001b[0m \u001b[38;5;28;01melse\u001b[39;00m:\n\u001b[0;32m    299\u001b[0m   \u001b[38;5;28;01mraise\u001b[39;00m \u001b[38;5;167;01mValueError\u001b[39;00m(\n\u001b[0;32m    300\u001b[0m       \u001b[38;5;124mf\u001b[39m\u001b[38;5;124m'\u001b[39m\u001b[38;5;124mUnrecognized hook: \u001b[39m\u001b[38;5;132;01m{\u001b[39;00mhook\u001b[38;5;132;01m}\u001b[39;00m\u001b[38;5;124m. Expected values are [\u001b[39m\u001b[38;5;124m\"\u001b[39m\u001b[38;5;124mbegin\u001b[39m\u001b[38;5;124m\"\u001b[39m\u001b[38;5;124m, \u001b[39m\u001b[38;5;124m\"\u001b[39m\u001b[38;5;124mend\u001b[39m\u001b[38;5;124m\"\u001b[39m\u001b[38;5;124m]\u001b[39m\u001b[38;5;124m'\u001b[39m)\n",
      "File \u001b[1;32mc:\\Users\\Edward\\anaconda3\\envs\\tf\\lib\\site-packages\\keras\\callbacks.py:318\u001b[0m, in \u001b[0;36mCallbackList._call_batch_end_hook\u001b[1;34m(self, mode, batch, logs)\u001b[0m\n\u001b[0;32m    315\u001b[0m   batch_time \u001b[38;5;241m=\u001b[39m time\u001b[38;5;241m.\u001b[39mtime() \u001b[38;5;241m-\u001b[39m \u001b[38;5;28mself\u001b[39m\u001b[38;5;241m.\u001b[39m_batch_start_time\n\u001b[0;32m    316\u001b[0m   \u001b[38;5;28mself\u001b[39m\u001b[38;5;241m.\u001b[39m_batch_times\u001b[38;5;241m.\u001b[39mappend(batch_time)\n\u001b[1;32m--> 318\u001b[0m \u001b[38;5;28;43mself\u001b[39;49m\u001b[38;5;241;43m.\u001b[39;49m\u001b[43m_call_batch_hook_helper\u001b[49m\u001b[43m(\u001b[49m\u001b[43mhook_name\u001b[49m\u001b[43m,\u001b[49m\u001b[43m \u001b[49m\u001b[43mbatch\u001b[49m\u001b[43m,\u001b[49m\u001b[43m \u001b[49m\u001b[43mlogs\u001b[49m\u001b[43m)\u001b[49m\n\u001b[0;32m    320\u001b[0m \u001b[38;5;28;01mif\u001b[39;00m \u001b[38;5;28mlen\u001b[39m(\u001b[38;5;28mself\u001b[39m\u001b[38;5;241m.\u001b[39m_batch_times) \u001b[38;5;241m>\u001b[39m\u001b[38;5;241m=\u001b[39m \u001b[38;5;28mself\u001b[39m\u001b[38;5;241m.\u001b[39m_num_batches_for_timing_check:\n\u001b[0;32m    321\u001b[0m   end_hook_name \u001b[38;5;241m=\u001b[39m hook_name\n",
      "File \u001b[1;32mc:\\Users\\Edward\\anaconda3\\envs\\tf\\lib\\site-packages\\keras\\callbacks.py:356\u001b[0m, in \u001b[0;36mCallbackList._call_batch_hook_helper\u001b[1;34m(self, hook_name, batch, logs)\u001b[0m\n\u001b[0;32m    354\u001b[0m \u001b[38;5;28;01mfor\u001b[39;00m callback \u001b[38;5;129;01min\u001b[39;00m \u001b[38;5;28mself\u001b[39m\u001b[38;5;241m.\u001b[39mcallbacks:\n\u001b[0;32m    355\u001b[0m   hook \u001b[38;5;241m=\u001b[39m \u001b[38;5;28mgetattr\u001b[39m(callback, hook_name)\n\u001b[1;32m--> 356\u001b[0m   \u001b[43mhook\u001b[49m\u001b[43m(\u001b[49m\u001b[43mbatch\u001b[49m\u001b[43m,\u001b[49m\u001b[43m \u001b[49m\u001b[43mlogs\u001b[49m\u001b[43m)\u001b[49m\n\u001b[0;32m    358\u001b[0m \u001b[38;5;28;01mif\u001b[39;00m \u001b[38;5;28mself\u001b[39m\u001b[38;5;241m.\u001b[39m_check_timing:\n\u001b[0;32m    359\u001b[0m   \u001b[38;5;28;01mif\u001b[39;00m hook_name \u001b[38;5;129;01mnot\u001b[39;00m \u001b[38;5;129;01min\u001b[39;00m \u001b[38;5;28mself\u001b[39m\u001b[38;5;241m.\u001b[39m_hook_times:\n",
      "File \u001b[1;32mc:\\Users\\Edward\\anaconda3\\envs\\tf\\lib\\site-packages\\keras\\callbacks.py:1034\u001b[0m, in \u001b[0;36mProgbarLogger.on_train_batch_end\u001b[1;34m(self, batch, logs)\u001b[0m\n\u001b[0;32m   1033\u001b[0m \u001b[38;5;28;01mdef\u001b[39;00m \u001b[38;5;21mon_train_batch_end\u001b[39m(\u001b[38;5;28mself\u001b[39m, batch, logs\u001b[38;5;241m=\u001b[39m\u001b[38;5;28;01mNone\u001b[39;00m):\n\u001b[1;32m-> 1034\u001b[0m   \u001b[38;5;28;43mself\u001b[39;49m\u001b[38;5;241;43m.\u001b[39;49m\u001b[43m_batch_update_progbar\u001b[49m\u001b[43m(\u001b[49m\u001b[43mbatch\u001b[49m\u001b[43m,\u001b[49m\u001b[43m \u001b[49m\u001b[43mlogs\u001b[49m\u001b[43m)\u001b[49m\n",
      "File \u001b[1;32mc:\\Users\\Edward\\anaconda3\\envs\\tf\\lib\\site-packages\\keras\\callbacks.py:1106\u001b[0m, in \u001b[0;36mProgbarLogger._batch_update_progbar\u001b[1;34m(self, batch, logs)\u001b[0m\n\u001b[0;32m   1102\u001b[0m   \u001b[38;5;28mself\u001b[39m\u001b[38;5;241m.\u001b[39mseen \u001b[38;5;241m+\u001b[39m\u001b[38;5;241m=\u001b[39m add_seen\n\u001b[0;32m   1104\u001b[0m \u001b[38;5;28;01mif\u001b[39;00m \u001b[38;5;28mself\u001b[39m\u001b[38;5;241m.\u001b[39mverbose \u001b[38;5;241m==\u001b[39m \u001b[38;5;241m1\u001b[39m:\n\u001b[0;32m   1105\u001b[0m   \u001b[38;5;66;03m# Only block async when verbose = 1.\u001b[39;00m\n\u001b[1;32m-> 1106\u001b[0m   logs \u001b[38;5;241m=\u001b[39m \u001b[43mtf_utils\u001b[49m\u001b[38;5;241;43m.\u001b[39;49m\u001b[43msync_to_numpy_or_python_type\u001b[49m\u001b[43m(\u001b[49m\u001b[43mlogs\u001b[49m\u001b[43m)\u001b[49m\n\u001b[0;32m   1107\u001b[0m   \u001b[38;5;28mself\u001b[39m\u001b[38;5;241m.\u001b[39mprogbar\u001b[38;5;241m.\u001b[39mupdate(\u001b[38;5;28mself\u001b[39m\u001b[38;5;241m.\u001b[39mseen, \u001b[38;5;28mlist\u001b[39m(logs\u001b[38;5;241m.\u001b[39mitems()), finalize\u001b[38;5;241m=\u001b[39m\u001b[38;5;28;01mFalse\u001b[39;00m)\n",
      "File \u001b[1;32mc:\\Users\\Edward\\anaconda3\\envs\\tf\\lib\\site-packages\\keras\\utils\\tf_utils.py:607\u001b[0m, in \u001b[0;36msync_to_numpy_or_python_type\u001b[1;34m(tensors)\u001b[0m\n\u001b[0;32m    604\u001b[0m     \u001b[38;5;28;01mreturn\u001b[39;00m t\n\u001b[0;32m    605\u001b[0m   \u001b[38;5;28;01mreturn\u001b[39;00m t\u001b[38;5;241m.\u001b[39mitem() \u001b[38;5;28;01mif\u001b[39;00m np\u001b[38;5;241m.\u001b[39mndim(t) \u001b[38;5;241m==\u001b[39m \u001b[38;5;241m0\u001b[39m \u001b[38;5;28;01melse\u001b[39;00m t\n\u001b[1;32m--> 607\u001b[0m \u001b[38;5;28;01mreturn\u001b[39;00m \u001b[43mtf\u001b[49m\u001b[38;5;241;43m.\u001b[39;49m\u001b[43mnest\u001b[49m\u001b[38;5;241;43m.\u001b[39;49m\u001b[43mmap_structure\u001b[49m\u001b[43m(\u001b[49m\u001b[43m_to_single_numpy_or_python_type\u001b[49m\u001b[43m,\u001b[49m\u001b[43m \u001b[49m\u001b[43mtensors\u001b[49m\u001b[43m)\u001b[49m\n",
      "File \u001b[1;32mc:\\Users\\Edward\\anaconda3\\envs\\tf\\lib\\site-packages\\tensorflow\\python\\util\\nest.py:916\u001b[0m, in \u001b[0;36mmap_structure\u001b[1;34m(func, *structure, **kwargs)\u001b[0m\n\u001b[0;32m    912\u001b[0m flat_structure \u001b[38;5;241m=\u001b[39m (flatten(s, expand_composites) \u001b[38;5;28;01mfor\u001b[39;00m s \u001b[38;5;129;01min\u001b[39;00m structure)\n\u001b[0;32m    913\u001b[0m entries \u001b[38;5;241m=\u001b[39m \u001b[38;5;28mzip\u001b[39m(\u001b[38;5;241m*\u001b[39mflat_structure)\n\u001b[0;32m    915\u001b[0m \u001b[38;5;28;01mreturn\u001b[39;00m pack_sequence_as(\n\u001b[1;32m--> 916\u001b[0m     structure[\u001b[38;5;241m0\u001b[39m], [func(\u001b[38;5;241m*\u001b[39mx) \u001b[38;5;28;01mfor\u001b[39;00m x \u001b[38;5;129;01min\u001b[39;00m entries],\n\u001b[0;32m    917\u001b[0m     expand_composites\u001b[38;5;241m=\u001b[39mexpand_composites)\n",
      "File \u001b[1;32mc:\\Users\\Edward\\anaconda3\\envs\\tf\\lib\\site-packages\\tensorflow\\python\\util\\nest.py:916\u001b[0m, in \u001b[0;36m<listcomp>\u001b[1;34m(.0)\u001b[0m\n\u001b[0;32m    912\u001b[0m flat_structure \u001b[38;5;241m=\u001b[39m (flatten(s, expand_composites) \u001b[38;5;28;01mfor\u001b[39;00m s \u001b[38;5;129;01min\u001b[39;00m structure)\n\u001b[0;32m    913\u001b[0m entries \u001b[38;5;241m=\u001b[39m \u001b[38;5;28mzip\u001b[39m(\u001b[38;5;241m*\u001b[39mflat_structure)\n\u001b[0;32m    915\u001b[0m \u001b[38;5;28;01mreturn\u001b[39;00m pack_sequence_as(\n\u001b[1;32m--> 916\u001b[0m     structure[\u001b[38;5;241m0\u001b[39m], [\u001b[43mfunc\u001b[49m\u001b[43m(\u001b[49m\u001b[38;5;241;43m*\u001b[39;49m\u001b[43mx\u001b[49m\u001b[43m)\u001b[49m \u001b[38;5;28;01mfor\u001b[39;00m x \u001b[38;5;129;01min\u001b[39;00m entries],\n\u001b[0;32m    917\u001b[0m     expand_composites\u001b[38;5;241m=\u001b[39mexpand_composites)\n",
      "File \u001b[1;32mc:\\Users\\Edward\\anaconda3\\envs\\tf\\lib\\site-packages\\keras\\utils\\tf_utils.py:601\u001b[0m, in \u001b[0;36msync_to_numpy_or_python_type.<locals>._to_single_numpy_or_python_type\u001b[1;34m(t)\u001b[0m\n\u001b[0;32m    598\u001b[0m \u001b[38;5;28;01mdef\u001b[39;00m \u001b[38;5;21m_to_single_numpy_or_python_type\u001b[39m(t):\n\u001b[0;32m    599\u001b[0m   \u001b[38;5;66;03m# Don't turn ragged or sparse tensors to NumPy.\u001b[39;00m\n\u001b[0;32m    600\u001b[0m   \u001b[38;5;28;01mif\u001b[39;00m \u001b[38;5;28misinstance\u001b[39m(t, tf\u001b[38;5;241m.\u001b[39mTensor):\n\u001b[1;32m--> 601\u001b[0m     t \u001b[38;5;241m=\u001b[39m \u001b[43mt\u001b[49m\u001b[38;5;241;43m.\u001b[39;49m\u001b[43mnumpy\u001b[49m\u001b[43m(\u001b[49m\u001b[43m)\u001b[49m\n\u001b[0;32m    602\u001b[0m   \u001b[38;5;66;03m# Strings, ragged and sparse tensors don't have .item(). Return them as-is.\u001b[39;00m\n\u001b[0;32m    603\u001b[0m   \u001b[38;5;28;01mif\u001b[39;00m \u001b[38;5;129;01mnot\u001b[39;00m \u001b[38;5;28misinstance\u001b[39m(t, (np\u001b[38;5;241m.\u001b[39mndarray, np\u001b[38;5;241m.\u001b[39mgeneric)):\n",
      "File \u001b[1;32mc:\\Users\\Edward\\anaconda3\\envs\\tf\\lib\\site-packages\\tensorflow\\python\\framework\\ops.py:1159\u001b[0m, in \u001b[0;36m_EagerTensorBase.numpy\u001b[1;34m(self)\u001b[0m\n\u001b[0;32m   1136\u001b[0m \u001b[38;5;250m\u001b[39m\u001b[38;5;124;03m\"\"\"Copy of the contents of this Tensor into a NumPy array or scalar.\u001b[39;00m\n\u001b[0;32m   1137\u001b[0m \n\u001b[0;32m   1138\u001b[0m \u001b[38;5;124;03mUnlike NumPy arrays, Tensors are immutable, so this method has to copy\u001b[39;00m\n\u001b[1;32m   (...)\u001b[0m\n\u001b[0;32m   1156\u001b[0m \u001b[38;5;124;03m    NumPy dtype.\u001b[39;00m\n\u001b[0;32m   1157\u001b[0m \u001b[38;5;124;03m\"\"\"\u001b[39;00m\n\u001b[0;32m   1158\u001b[0m \u001b[38;5;66;03m# TODO(slebedev): Consider avoiding a copy for non-CPU or remote tensors.\u001b[39;00m\n\u001b[1;32m-> 1159\u001b[0m maybe_arr \u001b[38;5;241m=\u001b[39m \u001b[38;5;28;43mself\u001b[39;49m\u001b[38;5;241;43m.\u001b[39;49m\u001b[43m_numpy\u001b[49m\u001b[43m(\u001b[49m\u001b[43m)\u001b[49m  \u001b[38;5;66;03m# pylint: disable=protected-access\u001b[39;00m\n\u001b[0;32m   1160\u001b[0m \u001b[38;5;28;01mreturn\u001b[39;00m maybe_arr\u001b[38;5;241m.\u001b[39mcopy() \u001b[38;5;28;01mif\u001b[39;00m \u001b[38;5;28misinstance\u001b[39m(maybe_arr, np\u001b[38;5;241m.\u001b[39mndarray) \u001b[38;5;28;01melse\u001b[39;00m maybe_arr\n",
      "File \u001b[1;32mc:\\Users\\Edward\\anaconda3\\envs\\tf\\lib\\site-packages\\tensorflow\\python\\framework\\ops.py:1125\u001b[0m, in \u001b[0;36m_EagerTensorBase._numpy\u001b[1;34m(self)\u001b[0m\n\u001b[0;32m   1123\u001b[0m \u001b[38;5;28;01mdef\u001b[39;00m \u001b[38;5;21m_numpy\u001b[39m(\u001b[38;5;28mself\u001b[39m):\n\u001b[0;32m   1124\u001b[0m   \u001b[38;5;28;01mtry\u001b[39;00m:\n\u001b[1;32m-> 1125\u001b[0m     \u001b[38;5;28;01mreturn\u001b[39;00m \u001b[38;5;28;43mself\u001b[39;49m\u001b[38;5;241;43m.\u001b[39;49m\u001b[43m_numpy_internal\u001b[49m\u001b[43m(\u001b[49m\u001b[43m)\u001b[49m\n\u001b[0;32m   1126\u001b[0m   \u001b[38;5;28;01mexcept\u001b[39;00m core\u001b[38;5;241m.\u001b[39m_NotOkStatusException \u001b[38;5;28;01mas\u001b[39;00m e:  \u001b[38;5;66;03m# pylint: disable=protected-access\u001b[39;00m\n\u001b[0;32m   1127\u001b[0m     \u001b[38;5;28;01mraise\u001b[39;00m core\u001b[38;5;241m.\u001b[39m_status_to_exception(e) \u001b[38;5;28;01mfrom\u001b[39;00m \u001b[38;5;28;01mNone\u001b[39;00m\n",
      "\u001b[1;31mKeyboardInterrupt\u001b[0m: "
     ]
    }
   ],
   "source": [
    "start_time = time.time()\n",
    "\n",
    "history = ensemble_model.fit(\n",
    "    train_generator,\n",
    "    steps_per_epoch=len(train_generator),\n",
    "    validation_data=val_generator,\n",
    "    validation_steps=len(val_generator),\n",
    "    epochs=40,\n",
    "    callbacks=callbacks\n",
    ")\n",
    "\n",
    "end_time = time.time()\n",
    "training_time = end_time - start_time"
   ]
  },
  {
   "cell_type": "code",
   "execution_count": null,
   "metadata": {},
   "outputs": [
    {
     "name": "stdout",
     "output_type": "stream",
     "text": [
      "Training completed in: 3633.27s\n"
     ]
    }
   ],
   "source": [
    "print(f\"Training completed in: {training_time:.2f}s\")"
   ]
  },
  {
   "cell_type": "code",
   "execution_count": null,
   "metadata": {},
   "outputs": [
    {
     "name": "stdout",
     "output_type": "stream",
     "text": [
      "352/352 [==============================] - 16s 45ms/step - loss: 0.1120 - custom_accuracy: 0.9624\n",
      "Test Loss: 0.1120249554514885, Test Accuracy: 0.9623579382896423\n"
     ]
    }
   ],
   "source": [
    "test_loss, test_accuracy = ensemble_model.evaluate(test_generator, steps=len(test_generator))\n",
    "print(f\"Test Loss: {test_loss}, Test Accuracy: {test_accuracy}\")"
   ]
  },
  {
   "cell_type": "code",
   "execution_count": null,
   "metadata": {},
   "outputs": [
    {
     "data": {
      "text/plain": [
       "Text(0.5, 1.0, 'Loss Over Epochs')"
      ]
     },
     "execution_count": 147,
     "metadata": {},
     "output_type": "execute_result"
    },
    {
     "data": {
      "image/png": "[encoded data removed]",
      "text/plain": [
       "<Figure size 1200x500 with 1 Axes>"
      ]
     },
     "metadata": {},
     "output_type": "display_data"
    }
   ],
   "source": [
    "plt.figure(figsize=(12, 5))\n",
    "\n",
    "plt.subplot(1, 2, 1)\n",
    "plt.plot(history.history['loss'], label='Training Loss')\n",
    "plt.plot(history.history['val_loss'], label='Validation Loss')\n",
    "plt.legend()\n",
    "plt.title('Loss Over Epochs')\n"
   ]
  },
  {
   "cell_type": "code",
   "execution_count": null,
   "metadata": {},
   "outputs": [
    {
     "data": {
      "image/png": "[encoded data removed]",
      "text/plain": [
       "<Figure size 640x480 with 1 Axes>"
      ]
     },
     "metadata": {},
     "output_type": "display_data"
    }
   ],
   "source": [
    "plt.subplot(1, 2, 2)\n",
    "plt.plot(history.history['custom_accuracy'], label='Training Accuracy')\n",
    "plt.plot(history.history['val_custom_accuracy'], label='Validation Accuracy')\n",
    "plt.legend()\n",
    "plt.title('Accuracy Over Epochs')\n",
    "\n",
    "plt.show()"
   ]
  },
  {
   "cell_type": "code",
   "execution_count": null,
   "metadata": {},
   "outputs": [
    {
     "name": "stdout",
     "output_type": "stream",
     "text": [
      "352/352 [==============================] - 16s 44ms/step\n"
     ]
    }
   ],
   "source": [
    "y_true = np.array(test_generator.classes)\n",
    "y_pred = ensemble_model.predict(test_generator)\n",
    "y_pred_prob = np.argmax(y_pred,axis=1)\n",
    "rice_names = df_test[\"label\"].unique()"
   ]
  },
  {
   "cell_type": "code",
   "execution_count": null,
   "metadata": {},
   "outputs": [],
   "source": [
    "print(rice_names)"
   ]
  },
  {
   "cell_type": "code",
   "execution_count": null,
   "metadata": {},
   "outputs": [
    {
     "name": "stdout",
     "output_type": "stream",
     "text": [
      "1/1 [==============================] - 0s 427ms/step\n",
      "Sample prediction shape: (32, 5)\n"
     ]
    }
   ],
   "source": [
    "sample_pred_prob = ensemble_model.predict(next(iter(test_generator))[0])\n",
    "print(\"Sample prediction shape:\", sample_pred_prob.shape)"
   ]
  },
  {
   "cell_type": "code",
   "execution_count": null,
   "metadata": {},
   "outputs": [],
   "source": [
    "y_true_one_hot = label_binarize(y_true, classes=np.arange(num_classes))"
   ]
  },
  {
   "cell_type": "code",
   "execution_count": null,
   "metadata": {},
   "outputs": [],
   "source": [
    "fpr = dict()\n",
    "tpr = dict()\n",
    "roc_auc = dict()\n",
    "for i in range(num_classes):\n",
    "    fpr[i], tpr[i], _ = roc_curve(y_true_one_hot[:, i], y_pred[:, i])\n",
    "    roc_auc[i] = auc(fpr[i], tpr[i])"
   ]
  },
  {
   "cell_type": "code",
   "execution_count": null,
   "metadata": {},
   "outputs": [
    {
     "data": {
      "image/png": "[encoded data removed]",
      "text/plain": [
       "<Figure size 1000x800 with 1 Axes>"
      ]
     },
     "metadata": {},
     "output_type": "display_data"
    }
   ],
   "source": [
    "#ROC-AUC curve\n",
    "plt.figure(figsize=(10, 8))\n",
    "for i, name in enumerate(rice_names):\n",
    "    plt.plot(fpr[i], tpr[i], lw=2, label=f'{name} (area = {roc_auc[i]:0.2f})')\n",
    "\n",
    "plt.plot([0, 1], [0, 1], color='navy', lw=2, linestyle='--')\n",
    "plt.xlim([0.0, 1.0])\n",
    "plt.ylim([0.0, 1.05])\n",
    "plt.xlabel('False Positive Rate')\n",
    "plt.ylabel('True Positive Rate')\n",
    "plt.title('Receiver Operating Characteristic for multi-class')\n",
    "plt.legend(loc=\"lower right\")\n",
    "plt.show()"
   ]
  },
  {
   "cell_type": "code",
   "execution_count": null,
   "metadata": {},
   "outputs": [
    {
     "name": "stdout",
     "output_type": "stream",
     "text": [
      "recall\n",
      "[0.97577389 0.97215986 0.99113176 0.91419726 0.947806  ]\n"
     ]
    }
   ],
   "source": [
    "#recll\n",
    "recall = recall_score(y_true=test_generator.classes,y_pred=y_pred_prob,average=None)\n",
    "print('recall')\n",
    "print(recall)"
   ]
  },
  {
   "cell_type": "code",
   "execution_count": null,
   "metadata": {},
   "outputs": [
    {
     "name": "stdout",
     "output_type": "stream",
     "text": [
      "y_true shape: (11250,)\n",
      "y_pred shape: (11250, 5)\n"
     ]
    }
   ],
   "source": [
    "print(\"y_true shape:\", y_true.shape)\n",
    "print(\"y_pred shape:\", y_pred.shape)"
   ]
  },
  {
   "cell_type": "code",
   "execution_count": null,
   "metadata": {},
   "outputs": [],
   "source": [
    "cm = confusion_matrix(y_true, y_pred_prob)"
   ]
  },
  {
   "cell_type": "code",
   "execution_count": null,
   "metadata": {},
   "outputs": [
    {
     "name": "stdout",
     "output_type": "stream",
     "text": [
      "Precision per class: [0.9227832  0.94706912 0.9987234  0.94686212 0.98939248]\n"
     ]
    }
   ],
   "source": [
    "#sensitivity\n",
    "sensitivity = np.diag(cm) / np.sum(cm, axis=1)\n",
    "print(\"Sensitivity:\", sensitivity)"
   ]
  },
  {
   "cell_type": "code",
   "execution_count": null,
   "metadata": {},
   "outputs": [
    {
     "name": "stdout",
     "output_type": "stream",
     "text": [
      "Sensitivity: [0.97577389 0.97215986 0.99113176 0.91419726 0.947806  ]\n"
     ]
    }
   ],
   "source": [
    "#specificity\n",
    "specificity = (np.sum(cm) - np.sum(cm, axis=0) - np.diag(cm) + np.diag(cm)) / (np.sum(cm) - np.sum(cm, axis=1))\n",
    "print(\"Specificity:\", specificity)"
   ]
  },
  {
   "cell_type": "code",
   "execution_count": null,
   "metadata": {},
   "outputs": [
    {
     "name": "stdout",
     "output_type": "stream",
     "text": [
      "Specificity: [0.98581089 0.99346115 1.00202657 1.00867727 1.01001651]\n"
     ]
    }
   ],
   "source": [
    "#sensitivity and specificity\n",
    "y = np.arange(len(rice_names))  \n",
    "width = 0.35 \n",
    "\n",
    "fig, ax = plt.subplots()\n",
    "rects1 = ax.barh(y - width/2, sensitivity, width, label='Sensitivity')\n",
    "rects2 = ax.barh(y + width/2, specificity, width, label='Specificity')\n",
    "\n",
    "ax.set_xlabel('Scores')\n",
    "ax.set_title('Sensitivity and Specificity by class')\n",
    "ax.set_yticks(y)\n",
    "ax.set_yticklabels(rice_names)\n",
    "ax.legend(loc='upper center', bbox_to_anchor=(1, -0.05))\n",
    "\n",
    "def autolabel(rects):\n",
    "    for rect in rects:\n",
    "        width = rect.get_width()\n",
    "        ax.annotate('{}'.format(round(width, 2)),\n",
    "                    xy=(width, rect.get_y() + rect.get_height() / 2),\n",
    "                    xytext=(3, 0),\n",
    "                    textcoords=\"offset points\",\n",
    "                    ha='left', va='center')\n",
    "\n",
    "autolabel(rects1)\n",
    "autolabel(rects2)\n",
    "\n",
    "fig.tight_layout()\n",
    "plt.show()\n"
   ]
  },
  {
   "cell_type": "code",
   "execution_count": null,
   "metadata": {},
   "outputs": [],
   "source": [
    "# precision recall F1\n",
    "rice_names=df_test[\"label\"].unique()\n",
    "print(classification_report(y_true, y_pred_prob,target_names = rice_names))"
   ]
  },
  {
   "cell_type": "code",
   "execution_count": null,
   "metadata": {},
   "outputs": [
    {
     "name": "stdout",
     "output_type": "stream",
     "text": [
      "Confusion Matrix:\n",
      "[[2175    0    1   49    4]\n",
      " [   0 2165    1   60    1]\n",
      " [  14    0 2347    7    0]\n",
      " [  55  121    1 2067   17]\n",
      " [ 113    0    0    0 2052]]\n"
     ]
    }
   ],
   "source": [
    "#confusion matrix\n",
    "print(\"Confusion Matrix:\")\n",
    "print(cm)"
   ]
  },
  {
   "cell_type": "code",
   "execution_count": null,
   "metadata": {},
   "outputs": [],
   "source": [
    "f,ax=plt.subplots(figsize=(10,10))\n",
    "sns.heatmap(cm,annot=True,cmap='Blues', fmt='d', xticklabels=rice_names, yticklabels=rice_names)\n",
    "plt.xlabel('Predicted')\n",
    "plt.ylabel('True')\n",
    "plt.title('Confusion Matrix')\n",
    "plt.show()"
   ]
  },
  {
   "cell_type": "code",
   "execution_count": null,
   "metadata": {},
   "outputs": [
    {
     "name": "stdout",
     "output_type": "stream",
     "text": [
      "F1 Score: 0.96\n"
     ]
    }
   ],
   "source": [
    "#Precision-Recall curve\n",
    "plt.figure(figsize=(8, 6))\n",
    "for i in range(num_classes):\n",
    "    precision, recall, _ = precision_recall_curve(y_true == i, y_pred[:, i])\n",
    "    plt.plot(recall, precision, lw=2, label=rice_names[i])\n",
    "\n",
    "plt.xlabel('Recall')\n",
    "plt.ylabel('Precision')\n",
    "plt.title('Precision-Recall curve')\n",
    "plt.legend(loc=\"best\")\n",
    "plt.show()"
   ]
  },
  {
   "cell_type": "code",
   "execution_count": null,
   "metadata": {},
   "outputs": [],
   "source": [
    "import matplotlib.cm as cm\n",
    "\n",
    "list_images_sample = [\n",
    "    \"E:/L6C6/mv/Rice_Image_Dataset/Arborio/Arborio (1).jpg\",\n",
    "    \"E:/L6C6/mv/Rice_Image_Dataset/Basmati/Basmati (1).jpg\",\n",
    "    \"E:/L6C6/mv/Rice_Image_Dataset/Ipsala/Ipsala (1).jpg\",\n",
    "    \"E:/L6C6/mv/Rice_Image_Dataset/Jasmine/Jasmine (1).jpg\",\n",
    "    \"E:/L6C6/mv/Rice_Image_Dataset/Karacadag/Karacadag (1).jpg\"\n",
    "]\n",
    "\n",
    "\n",
    "for layer in reversed(model_1.layers):\n",
    "    if isinstance(layer, keras.layers.Conv2D):\n",
    "        last_conv_layer_name = layer.name\n",
    "        break\n",
    "\n",
    "def get_img_array(img_path, size):\n",
    "    img = load_img(img_path, target_size=size)\n",
    "    array = img_to_array(img)\n",
    "    array = np.expand_dims(array, axis=0)\n",
    "    return array\n",
    "\n",
    "def make_gradcam_heatmap(img_array, model, last_conv_layer_name, pred_index=None):\n",
    "    grad_model = tf.keras.models.Model(\n",
    "        [model.inputs], \n",
    "        [model.get_layer(last_conv_layer_name).output, model.output]\n",
    "    )\n",
    "\n",
    "    with tf.GradientTape() as tape:\n",
    "        last_conv_layer_output, preds = grad_model(img_array)\n",
    "        if pred_index is None:\n",
    "            pred_index = tf.argmax(preds[0])\n",
    "        class_channel = preds[:, pred_index]\n",
    "\n",
    "    grads = tape.gradient(class_channel, last_conv_layer_output)\n",
    "    pooled_grads = tf.reduce_mean(grads, axis=(0, 1, 2))\n",
    "    last_conv_layer_output = last_conv_layer_output[0]\n",
    "    heatmap = last_conv_layer_output @ pooled_grads[..., tf.newaxis]\n",
    "    heatmap = tf.squeeze(heatmap)\n",
    "    heatmap = tf.maximum(heatmap, 0) / tf.math.reduce_max(heatmap)\n",
    "    return heatmap.numpy()\n",
    "\n",
    "heatmaps = []\n",
    "for img_path in list_images_sample:\n",
    "    img_array = preprocess_input(get_img_array(img_path, size=(50, 50)))\n",
    "    preds = model_1.predict(img_array)\n",
    "    heatmap = make_gradcam_heatmap(img_array, model_1, last_conv_layer_name)\n",
    "    heatmaps.append(heatmap)\n",
    "\n",
    "def save_and_display_gradcam(img_path, heatmap, cam_path=\"cam.jpg\", alpha=0.4):\n",
    "    img = load_img(img_path)\n",
    "    img = img_to_array(img)\n",
    "    heatmap = np.uint8(255 * heatmap)\n",
    "    jet = plt.cm.get_cmap(\"jet\")\n",
    "    jet_colors = jet(np.arange(256))[:, :3]\n",
    "    jet_heatmap = jet_colors[heatmap]\n",
    "    jet_heatmap = cv2.resize(jet_heatmap, (img.shape[1], img.shape[0]))\n",
    "    jet_heatmap = np.uint8(255 * jet_heatmap)\n",
    "    superimposed_img = jet_heatmap * alpha + img\n",
    "    superimposed_img = np.uint8(superimposed_img)\n",
    "    cv2.imwrite(cam_path, superimposed_img)\n",
    "\n",
    "for i, img_path in enumerate(list_images_sample):\n",
    "    save_and_display_gradcam(img_path, heatmaps[i], f\"cam_{i}.jpg\")\n",
    "\n",
    "def plot_multiple_img(img_matrix_list, title_list, ncols, main_title=\"\"):\n",
    "    fig, axes = plt.subplots(nrows=2, ncols=ncols, figsize=(15, 10))\n",
    "    fig.suptitle(main_title, fontsize=18)\n",
    "    \n",
    "    for i, (img, title) in enumerate(zip(img_matrix_list, title_list)):\n",
    "        row = i // ncols\n",
    "        col = i % ncols\n",
    "        axes[row, col].imshow(img)\n",
    "        axes[row, col].set_title(title, fontsize=15)\n",
    "        axes[row, col].axis('off')\n",
    "\n",
    "    plt.tight_layout()\n",
    "    plt.show()\n",
    "\n",
    "images = []\n",
    "titles = [\"Arborio\",'Arborio Grad','Basmati','Basmati Grad','Ipsala','Ipsala Grad','Jasmine','Jasmine Grad','Karacadag','Karacadag Grad']\n",
    "for i, img_path in enumerate(list_images_sample):\n",
    "    images.append(cv2.imread(img_path))\n",
    "    images.append(cv2.imread(f\"cam_{i}.jpg\"))\n",
    "\n",
    "plot_multiple_img(images, titles, ncols=5, main_title=\"RICE TYPE Image Analysis\")\n"
   ]
  },
  {
   "cell_type": "code",
   "execution_count": null,
   "metadata": {},
   "outputs": [],
   "source": [
    "list_images_sample = [\n",
    "    \"E:/L6C6/mv/Rice_Image_Dataset/Arborio/Arborio (1).jpg\",\n",
    "    \"E:/L6C6/mv/Rice_Image_Dataset/Basmati/Basmati (1).jpg\",\n",
    "    \"E:/L6C6/mv/Rice_Image_Dataset/Ipsala/Ipsala (1).jpg\",\n",
    "    \"E:/L6C6/mv/Rice_Image_Dataset/Jasmine/Jasmine (1).jpg\",\n",
    "    \"E:/L6C6/mv/Rice_Image_Dataset/Karacadag/Karacadag (1).jpg\"\n",
    "]\n",
    "\n",
    "for layer in reversed(model_2.layers):\n",
    "    if isinstance(layer, keras.layers.Conv2D):\n",
    "        last_conv_layer_name = layer.name\n",
    "        break\n",
    "\n",
    "def get_img_array(img_path, size):\n",
    "    img = load_img(img_path, target_size=size)\n",
    "    array = img_to_array(img)\n",
    "    array = np.expand_dims(array, axis=0)\n",
    "    return array\n",
    "\n",
    "def make_gradcam_heatmap(img_array, model, last_conv_layer_name, pred_index=None):\n",
    "    grad_model = tf.keras.models.Model(\n",
    "        [model.inputs], \n",
    "        [model.get_layer(last_conv_layer_name).output, model.output]\n",
    "    )\n",
    "\n",
    "    with tf.GradientTape() as tape:\n",
    "        last_conv_layer_output, preds = grad_model(img_array)\n",
    "        if pred_index is None:\n",
    "            pred_index = tf.argmax(preds[0])\n",
    "        class_channel = preds[:, pred_index]\n",
    "\n",
    "    grads = tape.gradient(class_channel, last_conv_layer_output)\n",
    "    pooled_grads = tf.reduce_mean(grads, axis=(0, 1, 2))\n",
    "    last_conv_layer_output = last_conv_layer_output[0]\n",
    "    heatmap = last_conv_layer_output @ pooled_grads[..., tf.newaxis]\n",
    "    heatmap = tf.squeeze(heatmap)\n",
    "    heatmap = tf.maximum(heatmap, 0) / tf.math.reduce_max(heatmap)\n",
    "    return heatmap.numpy()\n",
    "\n",
    "heatmaps = []\n",
    "for img_path in list_images_sample:\n",
    "    img_array = preprocess_input(get_img_array(img_path, size=(50, 50)))\n",
    "    preds = model_2.predict(img_array)\n",
    "    heatmap = make_gradcam_heatmap(img_array, model_2, last_conv_layer_name)\n",
    "    heatmaps.append(heatmap)\n",
    "\n",
    "def save_and_display_gradcam(img_path, heatmap, cam_path=\"cam.jpg\", alpha=0.4):\n",
    "    img = load_img(img_path)\n",
    "    img = img_to_array(img)\n",
    "    heatmap = np.uint8(255 * heatmap)\n",
    "    jet = plt.cm.get_cmap(\"jet\")\n",
    "    jet_colors = jet(np.arange(256))[:, :3]\n",
    "    jet_heatmap = jet_colors[heatmap]\n",
    "    jet_heatmap = cv2.resize(jet_heatmap, (img.shape[1], img.shape[0]))\n",
    "    jet_heatmap = np.uint8(255 * jet_heatmap)\n",
    "    superimposed_img = jet_heatmap * alpha + img\n",
    "    superimposed_img = np.uint8(superimposed_img)\n",
    "    cv2.imwrite(cam_path, superimposed_img)\n",
    "\n",
    "for i, img_path in enumerate(list_images_sample):\n",
    "    save_and_display_gradcam(img_path, heatmaps[i], f\"cam_{i}.jpg\")\n",
    "\n",
    "def plot_multiple_img(img_matrix_list, title_list, ncols, main_title=\"\"):\n",
    "    fig, axes = plt.subplots(nrows=2, ncols=ncols, figsize=(15, 10))\n",
    "    fig.suptitle(main_title, fontsize=18)\n",
    "    \n",
    "    for i, (img, title) in enumerate(zip(img_matrix_list, title_list)):\n",
    "        row = i // ncols\n",
    "        col = i % ncols\n",
    "        axes[row, col].imshow(img)\n",
    "        axes[row, col].set_title(title, fontsize=15)\n",
    "        axes[row, col].axis('off')\n",
    "\n",
    "    plt.tight_layout()\n",
    "    plt.show()\n",
    "\n",
    "images = []\n",
    "titles = [\"Arborio\",'Arborio Grad','Basmati','Basmati Grad','Ipsala','Ipsala Grad','Jasmine','Jasmine Grad','Karacadag','Karacadag Grad']\n",
    "for i, img_path in enumerate(list_images_sample):\n",
    "    images.append(cv2.imread(img_path))\n",
    "    images.append(cv2.imread(f\"cam_{i}.jpg\"))\n",
    "\n",
    "plot_multiple_img(images, titles, ncols=5, main_title=\"RICE TYPE Image Analysis\")\n"
   ]
  }
 ],
 "metadata": {
  "kernelspec": {
   "display_name": "tf",
   "language": "python",
   "name": "python3"
  },
  "language_info": {
   "codemirror_mode": {
    "name": "ipython",
    "version": 3
   },
   "file_extension": ".py",
   "mimetype": "text/x-python",
   "name": "python",
   "nbconvert_exporter": "python",
   "pygments_lexer": "ipython3",
   "version": "3.10.13"
  }
 },
 "nbformat": 4,
 "nbformat_minor": 2
}
